{
  "nbformat": 4,
  "nbformat_minor": 0,
  "metadata": {
    "colab": {
      "name": "InfyTq_Test.ipynb",
      "provenance": []
    },
    "kernelspec": {
      "name": "python3",
      "display_name": "Python 3"
    },
    "language_info": {
      "name": "python"
    }
  },
  "cells": [
    {
      "cell_type": "markdown",
      "source": [
        "Q1\n"
      ],
      "metadata": {
        "id": "2Rp0qbE9e8-A"
      }
    },
    {
      "cell_type": "code",
      "source": [
        "def twoSum(nums, target):\n",
        "        lst=[]\n",
        "        for x in range(len(nums)):\n",
        "            for y in range(x+1,len(nums)):\n",
        "                if nums[x]+nums[y]==target:\n",
        "                    lst.extend([x,y])\n",
        "                    \n",
        "        lst=list(set(lst))\n",
        "        return lst\n",
        "\n",
        "print(twoSum([2,7,11,15],9))\n",
        "print(twoSum([3,2,4],6))\n",
        "print(twoSum([3,3],6))"
      ],
      "metadata": {
        "colab": {
          "base_uri": "https://localhost:8080/"
        },
        "id": "AqrSSD4pdULa",
        "outputId": "5a89871b-d305-43ea-dc19-898d7b79243f"
      },
      "execution_count": 2,
      "outputs": [
        {
          "output_type": "stream",
          "name": "stdout",
          "text": [
            "[0, 1]\n",
            "[1, 2]\n",
            "[0, 1]\n"
          ]
        }
      ]
    },
    {
      "cell_type": "markdown",
      "source": [
        "Q2"
      ],
      "metadata": {
        "id": "7zc8f8mBfCTR"
      }
    },
    {
      "cell_type": "code",
      "source": [
        "if __name__ == '__main__':\n",
        "    lis=[]\n",
        "    for _ in range(int(input())):\n",
        "        name = input()\n",
        "        score = float(input())\n",
        "        \n",
        "        lis.append([name,score])\n",
        "    \n",
        "    lis.sort(key=lambda lis:lis[1])\n",
        "    \n",
        "    second_lowest=[]\n",
        "    for i in range(len(lis)):\n",
        "        if lis[i][1]!=lis[0][1]:\n",
        "            second_lowest.append(lis[i][0])\n",
        "            for j in range(i+1,len(lis)):\n",
        "                if lis[j][1]==lis[i][1]:\n",
        "                    second_lowest.append(lis[j][0])\n",
        "                    \n",
        "                else:\n",
        "                    break\n",
        "            break  \n",
        "            \n",
        "        else:\n",
        "            continue\n",
        "           \n",
        "    second_lowest.sort()\n",
        "    print('student(s) having the second lowest grade :-')\n",
        "    for i in second_lowest:\n",
        "        print(i)"
      ],
      "metadata": {
        "colab": {
          "base_uri": "https://localhost:8080/"
        },
        "id": "fm7PCwKwdaOT",
        "outputId": "a912643f-a843-440e-94a9-459e195b3ec5"
      },
      "execution_count": 7,
      "outputs": [
        {
          "output_type": "stream",
          "name": "stdout",
          "text": [
            "3\n",
            "Pawan\n",
            "34\n",
            "Nitesh\n",
            "5\n",
            "Rajveer\n",
            "32\n",
            "student(s) having the second lowest grade :-\n",
            "Rajveer\n"
          ]
        }
      ]
    }
  ]
}